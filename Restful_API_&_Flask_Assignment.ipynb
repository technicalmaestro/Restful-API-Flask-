{
  "nbformat": 4,
  "nbformat_minor": 0,
  "metadata": {
    "colab": {
      "provenance": []
    },
    "kernelspec": {
      "name": "python3",
      "display_name": "Python 3"
    },
    "language_info": {
      "name": "python"
    }
  },
  "cells": [
    {
      "cell_type": "markdown",
      "source": [
        "#**Theory Solutions:**\n",
        "\n",
        "**Q1. What is a RESTful API?**\n",
        "\n",
        "->A RESTful API is like a messenger that lets apps or websites talk to each other over the internet. It uses simple rules to share data, like sending and receiving messages, usually in a format called JSON. Think of it as a way to ask a server for info (like a list of users) or tell it to do something (like add a new user).\n",
        "\n",
        "**Key Ideas**\n",
        "\n",
        "REST: Stands for Representational State Transfer, a set of rules for building APIs.\n",
        "HTTP Methods: Commands like:\n",
        "GET: Get data (e.g., fetch a list of students).\n",
        "POST: Send new data (e.g., add a student).\n",
        "PUT: Update data (e.g., change a student’s name).\n",
        "DELETE: Remove data (e.g., delete a student).\n",
        "Endpoints: URLs like /students or /students/1 where you send requests.\n",
        "Stateless: Each request is independent; the server doesn’t remember past requests.\n",
        "JSON: Data is usually sent as JSON, like {\"id\": 1, \"name\": \"Alice\"}.\n",
        "\n",
        "\n",
        "**Q2. Explain the concept of API specification.**\n",
        "\n",
        "->An API specification is a formal document defining an API's structure, endpoints, methods, parameters, responses, and authentication. It acts as a contract for developers to understand and interact with the API.\n",
        "\n",
        "**Key Components**\n",
        "Endpoints: URLs for resources (e.g., /users).\n",
        "HTTP Methods: Actions like GET, POST, PUT, DELETE.\n",
        "Parameters: Query, path, or body data.\n",
        "Responses: Data format (e.g., JSON) and status codes.\n",
        "Schemas: Data structure definitions.\n",
        "Authentication: Methods like API keys or OAuth.\n",
        "Errors: Standardized error codes/messages.\n",
        "Why It Matters\n",
        "Ensures clarity and consistency.\n",
        "Enables automation (e.g., documentation, testing).\n",
        "Simplifies integration and onboarding.\n",
        "\n",
        "**Q3. What is Flask, and why is it popular for building APIs**\n",
        "\n",
        "->Flask is a super simple Python tool for building websites and APIs (ways for apps to talk to each other). It’s like a small toolbox that gives you just what you need to create web stuff, without extra fluff.\n",
        "\n",
        "**Why is Flask Cool for APIs?**\n",
        "Easy to Learn: You can start building with just a few lines of code.\n",
        "Flexible: You pick how to build your API, like choosing your own Legos.\n",
        "Lightweight: It’s not heavy, so it’s great for small projects or school assignments.\n",
        "Python Power: Uses Python, which you might already know, making it fun to code.\n",
        "Fast to Build: You can quickly make an API for a class project or app idea.\n",
        "Lots of Help: Tons of tutorials and a big community to guide you.\n",
        "\n",
        "**Q4. What is routing in Flask?**\n",
        "\n",
        "->**Routing in Flask**\n",
        "Routing in Flask is the process of mapping a URL (web address) to a specific function in your application. When a user visits a URL, Flask decides which function (called a view function) should handle the request based on the defined route.\n",
        "Routes are created using the @app.route() decorator.\n",
        "Each route tells Flask “if someone visits this URL, run this function.”\n",
        "\n",
        "**Key Aspects of Routing**\n",
        "URL Mapping\n",
        "Routes define how URLs (e.g., /, /about) are linked to view functions using the @app.route() decorator.\n",
        "\n",
        "HTTP Methods\n",
        "Routes can specify allowed HTTP methods (e.g., GET, POST) to handle different types of requests:\n",
        "\n",
        "**Q5. How do you create a simple Flask application?**\n",
        "->Creating a Simple Flask Application\n",
        "Flask is an easy-to-use Python tool for building web apps or APIs. Below is a step-by-step guide to create a simple Flask application that shows a webpage and an API endpoint.\n",
        "\n",
        "**Steps to Create a Flask App**\n"
      ],
      "metadata": {
        "id": "GpiRYVcIxfnP"
      }
    },
    {
      "cell_type": "code",
      "source": [
        "!pip install -q flask pyngrok"
      ],
      "metadata": {
        "id": "xNXeIZgD0NvO"
      },
      "execution_count": null,
      "outputs": []
    },
    {
      "cell_type": "code",
      "source": [
        "from pyngrok import ngrok, conf\n",
        "\n",
        "# Paste your token here\n",
        "ngrok.set_auth_token(\"32WXLZT2IbMP3xdz6h3EhpTH5Ah_5TBpM4FdjVf4BrRcBZa78\")"
      ],
      "metadata": {
        "id": "zibAyVGX4tq2"
      },
      "execution_count": null,
      "outputs": []
    },
    {
      "cell_type": "code",
      "source": [
        "# Simple Flask app + ngrok for Colab\n",
        "from flask import Flask\n",
        "from pyngrok import ngrok\n",
        "import threading\n",
        "import time\n",
        "\n",
        "app = Flask(__name__)\n",
        "\n",
        "@app.route(\"/\")\n",
        "def home():\n",
        "    return \"Hello PW Skills 👋\"\n",
        "\n",
        "# 1) Open an ngrok tunnel (port 5000)\n",
        "tunnel = ngrok.connect(5000)\n",
        "print(\"Public URL (open this in your browser):\", tunnel.public_url)\n",
        "\n",
        "# 2) Run Flask in a background thread so the notebook stays usable\n",
        "def run_app():\n",
        "    app.run(host=\"0.0.0.0\", port=5000, debug=False, use_reloader=False)\n",
        "\n",
        "thread = threading.Thread(target=run_app)\n",
        "thread.start()\n",
        "\n",
        "# give the server a moment to start\n",
        "time.sleep(1)\n",
        "print(\"Flask app should be running now.\")"
      ],
      "metadata": {
        "id": "OI15ExDK5ytN"
      },
      "execution_count": null,
      "outputs": []
    },
    {
      "cell_type": "markdown",
      "source": [
        "Public URL(open this in your browser): https://42ba89fd9ed8.ngrok-free.app\n",
        " * Serving Flask app '__main__'\n",
        " * Debug mode: off"
      ],
      "metadata": {
        "id": "tTc8SmVX6vuF"
      }
    },
    {
      "cell_type": "markdown",
      "source": [
        "Address already in use\n",
        "\n",
        "Port 5000 is in use by another program.\n",
        " Either identify and stop that program, or start the server with a different port.\n",
        "Flask app should be running now."
      ],
      "metadata": {
        "id": "DWC3FN-W7Fp9"
      }
    },
    {
      "cell_type": "code",
      "source": [
        "from google.colab import files\n",
        "from IPython.display import Image\n"
      ],
      "metadata": {
        "id": "qnGm7DVE7AU_"
      },
      "execution_count": null,
      "outputs": []
    },
    {
      "cell_type": "code",
      "source": [
        "uploaded = files.upload()"
      ],
      "metadata": {
        "id": "z196oHcU7elm"
      },
      "execution_count": null,
      "outputs": []
    },
    {
      "cell_type": "markdown",
      "source": [
        "Upload widget is only available when the cell has been executed in the current browser session.\n",
        "Please rerun this cell to enable.\n",
        "Saving Presentation1.png to Presentation1.png"
      ],
      "metadata": {
        "id": "ZRtuOb-G7jd-"
      }
    },
    {
      "cell_type": "code",
      "source": [
        "Image('Presentation1.png')"
      ],
      "metadata": {
        "id": "-qH6dmc_828S"
      },
      "execution_count": null,
      "outputs": []
    },
    {
      "cell_type": "markdown",
      "source": [
        "**Q6.What are HTTP methods used in RESTful APIs?**\n",
        "\n",
        "->RESTful APIs use HTTP methods to tell the server what action you want to do on a resource (like data).\n",
        "\n",
        "**Think of it like talking to a robot waiter :**\n",
        "\n",
        "GET = “Bring me something”\n",
        "\n",
        "POST = “Here’s a new dish, add it”\n",
        "\n",
        "PUT = “Change this dish completely”\n",
        "\n",
        "PATCH = “Fix/update just one part of this dish”\n",
        "\n",
        "DELETE = “Take away this dish”\n"
      ],
      "metadata": {
        "id": "yugwo3Mx9Xs1"
      }
    },
    {
      "cell_type": "markdown",
      "source": [
        "**Q7.What is the purpose of the @app.route() decorator in Flask?**\n",
        "\n",
        "->The @app.route() decorator in Flask is used to bind a URL to a specific function, known as a view function, in a Flask web application. It tells Flask which URL should trigger the function and how to handle HTTP requests for that URL.\n",
        "\n",
        "**Key Purposes:**\n",
        "URL Routing: It maps a URL path (e.g., /, /about) to a Python function that generates a response when the URL is accessed.\n",
        "HTTP Method Handling: It allows you to specify which HTTP methods (e.g., GET, POST) the function can handle for the given URL.\n",
        "Dynamic Routing: It supports dynamic URLs by allowing variable parts in the URL (e.g., /user/<username>) to capture parameters and pass them to the function."
      ],
      "metadata": {
        "id": "G1cKh-HE_Z60"
      }
    },
    {
      "cell_type": "code",
      "source": [
        "#Example\n",
        "\n",
        "from flask import Flask\n",
        "app = Flask(__name__)\n",
        "\n",
        "@app.route('/')\n",
        "def home():\n",
        "    return 'Welcome!'\n",
        "\n",
        "@app.route('/user/')\n",
        "def user(name):\n",
        "    return f'Hello, {name}!'"
      ],
      "metadata": {
        "id": "vUvz7LdU_mzF"
      },
      "execution_count": null,
      "outputs": []
    },
    {
      "cell_type": "markdown",
      "source": [
        "**Q8.What is the difference between GET and POST HTTP methods?**\n",
        "\n",
        "->In RESTful APIs and web communication, GET and POST are the two most commonly used HTTP methods.\n",
        "They both send requests to the server, but they differ in purpose, data handling, and use cases.\n",
        "\n",
        "\n",
        "\n",
        "\n",
        "\n",
        "| Aspect                | **GET**                                                                 | **POST**                                                 |\n",
        "| --------------------- | ----------------------------------------------------------------------- | -------------------------------------------------------- |\n",
        "| **Purpose**           | Retrieve data from the server (read-only).                              | Send data to the server to create/update resources.      |\n",
        "| **Data Transmission** | Sent as part of the **URL query string** (e.g., `?id=123`).             | Sent in the **request body** (not visible in URL).       |\n",
        "| **Visibility**        | Data is visible in the URL (bookmarks, browser history, logs).          | Data is hidden in the request body (not shown in URL).   |\n",
        "| **Data Length**       | Limited (URL length restrictions, \\~2,048 characters in most browsers). | Practically unlimited (depends on server configuration). |\n",
        "| **Idempotency**       | Yes – multiple identical GET requests produce the same result.          | Not necessarily – multiple POSTs may create duplicates.  |\n",
        "| **Caching**           | Often cached by browsers and servers.                                   | Usually **not** cached.                                  |\n",
        "| **Use Cases**         | - Fetching a webpage                                                    |                                                          |\n",
        "                   \n",
        "\n",
        "___________________________________________\n",
        "Example in Flask from flask import Flask, request\n",
        "\n",
        "app = Flask(__name__)\n",
        "\n",
        "# GET request example\n",
        "@app.route(\"/search\", methods=[\"GET\"])\n",
        "def search():\n",
        "    query = request.args.get(\"q\")  # Query parameter from URL\n",
        "    return f\"You searched for: {query}\"\n",
        "\n",
        "# POST request example\n",
        "@app.route(\"/submit\", methods=[\"POST\"])\n",
        "def submit():\n",
        "    data = request.form.get(\"name\")  # Data sent in body\n",
        "    return f\"Form submitted with name: {data}\"\n",
        "\n",
        "if __name__ == \"__main__\":\n",
        "    app.run(debug=True)\n",
        "Example in Python requests\n",
        "import requests\n",
        "\n",
        "# GET request\n",
        "r_get = requests.get(\"https://jsonplaceholder.typicode.com/posts/1\")\n",
        "print(\"GET:\", r_get.json())\n",
        "\n",
        "# POST request\n",
        "r_post = requests.post(\"https://jsonplaceholder.typicode.com/posts\", json={\"title\": \"API Demo\", \"body\": \"Hello World\", \"userId\": 1})\n",
        "print(\"POST:\", r_post.json())  \n",
        "\n"
      ],
      "metadata": {
        "id": "Wrq-RlQP_sg0"
      }
    },
    {
      "cell_type": "markdown",
      "source": [
        "**Q9.How do you handle errors in Flask APIs?**\n",
        "\n",
        "->In Flask APIs, errors can occur due to invalid requests, missing resources, server issues, or other unexpected situations.\n",
        "Flask provides ways to catch and handle these errors gracefully so the API can return meaningful responses instead of crashing.\n",
        "\n",
        "\n",
        "**Key Concepts**\n",
        "HTTP Status Codes\n",
        "\n",
        "Errors should return appropriate HTTP status codes:\n",
        "400 → Bad Request\n",
        "401 → Unauthorized\n",
        "403 → Forbidden\n",
        "404 → Not Found\n",
        "500 → Internal Server Error\n",
        "Error Handlers\n",
        "\n",
        "Flask allows you to define custom error handlers using the @app.errorhandler() decorator.\n",
        "You can return JSON responses for REST APIs instead of HTML pages.\n",
        "Try-Except Blocks\n",
        "\n",
        "Use try-except in view functions to catch exceptions and return controlled error messages.\n",
        "\n",
        "\n",
        "Example 1: Handling 404 Error\n",
        "from flask import Flask, jsonify\n",
        "\n",
        "app = Flask(__name__)\n",
        "\n",
        "# Custom 404 handler\n",
        "@app.errorhandler(404)\n",
        "def not_found(error):\n",
        "    return jsonify({\"error\": \"Resource not found\"}), 404\n",
        "\n",
        "@app.route(\"/books/<int:id>\")\n",
        "def get_book(id):\n",
        "    books = {1: \"Python Basics\", 2: \"Flask Guide\"}\n",
        "    if id not in books:\n",
        "        # Trigger 404 error\n",
        "        return not_found(404)\n",
        "    return jsonify({\"id\": id, \"title\": books[id]})\n",
        "Accessing /books/3 → Returns:\n",
        "Example 2: Using Try-Except in API\n",
        "@app.route(\"/divide\")\n",
        "def divide():\n",
        "    try:\n",
        "        a = int(request.args.get(\"a\", 1))\n",
        "        b = int(request.args.get(\"b\", 0))  # May cause division by zero\n",
        "        result = a / b\n",
        "        return jsonify({\"result\": result})\n",
        "    except ZeroDivisionError:\n",
        "        return jsonify({\"error\": \"Cannot divide by zero\"}), 400\n",
        "    except ValueError:\n",
        "        return jsonify({\"error\": \"Invalid input\"}), 400\n",
        "/divide?a=10&b=0 → Returns:\n"
      ],
      "metadata": {
        "id": "AdwvcAg3ZgP-"
      }
    },
    {
      "cell_type": "markdown",
      "source": [
        "**Q10. How do you connect Flask to a SQL database?**\n",
        "\n",
        "->Flask itself is a lightweight web framework and does not come with built-in database support.\n",
        "To connect it to a SQL database (like SQLite, MySQL, or PostgreSQL), we usually use ORMs (Object-Relational Mappers) or database connectors.\n",
        "\n",
        "**Key Approaches:**\n",
        "Using Flask with SQLite (lightweight, file-based DB)\n",
        "Using Flask with SQLAlchemy (popular ORM, works with MySQL/PostgreSQL/SQLite)\n",
        "Direct SQL connections using pymysql, psycopg2, or sqlite3\n",
        "___________________________________________\n",
        "Option 1: Using SQLite (Built-in with Python)\n",
        "from flask import Flask, g\n",
        "import sqlite3\n",
        "\n",
        "app = Flask(__name__)\n",
        "DATABASE = \"test.db\"\n",
        "\n",
        "# Function to get DB connection\n",
        "def get_db():\n",
        "    db = getattr(g, \"_database\", None)\n",
        "    if db is None:\n",
        "        db = g._database = sqlite3.connect(DATABASE)\n",
        "    return db\n",
        "\n",
        "# Close DB when app context ends\n",
        "@app.teardown_appcontext\n",
        "def close_connection(exception):\n",
        "    db = getattr(g, \"_database\", None)\n",
        "    if db is not None:\n",
        "        db.close()\n",
        "\n",
        "@app.route(\"/create_table\")\n",
        "def create_table():\n",
        "    conn = get_db()\n",
        "    cursor = conn.cursor()\n",
        "    cursor.execute(\"\"\"CREATE TABLE IF NOT EXISTS users (\n",
        "                        id INTEGER PRIMARY KEY,\n",
        "                        name TEXT NOT NULL)\"\"\")\n",
        "    conn.commit()\n",
        "    return \"Table created successfully!\"\n",
        "\n",
        "if __name__ == \"__main__\":\n",
        "    app.run(debug=True)\n",
        "get_db() → Opens a connection to SQLite database\n",
        "\n",
        "@app.teardown_appcontext → Closes DB connection automatically"
      ],
      "metadata": {
        "id": "8RU9CD_IaAZ8"
      }
    },
    {
      "cell_type": "markdown",
      "source": [
        "**Q11.What is the role of Flask-SQLAlchemy?**\n",
        "\n",
        "Flask-SQLAlchemy is an extension for Flask that simplifies using SQL databases in Flask applications.\n",
        "It acts as a bridge between Flask (the web framework) and SQLAlchemy (a powerful Python ORM).\n",
        "\n",
        "**Key Roles and Benefits:**\n",
        "\n",
        "**ORM (Object-Relational Mapper)**\n",
        "\n",
        "Allows developers to interact with the database using Python classes and objects instead of writing raw SQL queries.\n",
        "Example: A Book Python class can represent a books table.\n",
        "\n",
        "**Simplifies Database Configuration**\n",
        "\n",
        "Provides easy integration with Flask’s app configuration.\n",
        "Handles database connections and sessions automatically.\n",
        "\n",
        "**CRUD Operations Made Easy**\n",
        "\n",
        "Use db.session.add(), db.session.commit(), Book.query.all() etc., instead of raw SQL commands.\n",
        "\n",
        "**Database-Agnostic **\n",
        "\n",
        "Works with multiple SQL databases like SQLite, MySQL, PostgreSQL, etc.\n",
        "Changing the database is often as simple as updating the connection URI.\n",
        "\n",
        "**Automatic Table Management**\n",
        "\n",
        "Can create tables directly from Python classes using db.create_all().\n",
        "Makes migrations and schema updates easier when combined with Flask-Migrate.\n",
        "_________________________________________\n",
        "Example: Flask-SQLAlchemy Usage\n",
        "from flask import Flask, jsonify\n",
        "from flask_sqlalchemy import SQLAlchemy\n",
        "\n",
        "# Step 1: Initialize Flask app\n",
        "app = Flask(__name__)\n",
        "app.config[\"SQLALCHEMY_DATABASE_URI\"] = \"sqlite:///books.db\"\n",
        "app.config[\"SQLALCHEMY_TRACK_MODIFICATIONS\"] = False\n",
        "\n",
        "# Step 2: Initialize SQLAlchemy\n",
        "db = SQLAlchemy(app)\n",
        "\n",
        "# Step 3: Define a model (table)\n",
        "class Book(db.Model):\n",
        "    id = db.Column(db.Integer, primary_key=True)\n",
        "    title = db.Column(db.String(100), nullable=False)\n",
        "    author = db.Column(db.String(50), nullable=False)\n",
        "\n",
        "# Step 4: Create tables\n",
        "with app.app_context():\n",
        "    db.create_all()\n",
        "\n",
        "# Step 5: Add a book\n",
        "@app.route(\"/add_book\")\n",
        "def add_book():\n",
        "    new_book = Book(title=\"Flask Mastery\", author=\"Ritesh\")\n",
        "    db.session.add(new_book)\n",
        "    db.session.commit()\n",
        "    return \"Book added successfully!\"\n",
        "\n",
        "# Step 6: Fetch books\n",
        "@app.route(\"/books\")\n",
        "def get_books():\n",
        "    books = Book.query.all()\n",
        "    return jsonify([{\"id\": b.id, \"title\": b.title, \"author\": b.author} for b in books])\n",
        "\n",
        "if __name__ == \"__main__\":\n",
        "    app.run(debug=True)\n",
        "Book.query.all() → Retrieve all books\n",
        "\n",
        "db.session.add() + db.session.commit() → Insert new book\n",
        "\n",
        "db.create_all()1 → Automatically creates tables based on models"
      ],
      "metadata": {
        "id": "DkpmlyLFagJc"
      }
    },
    {
      "cell_type": "markdown",
      "source": [
        "**Q12. What are Flask Blueprints, and How Are They Useful?**\n",
        "\n",
        "->Flask Blueprints are a way to organize a Flask application into smaller, reusable components.\n",
        "Think of blueprints as mini-apps inside your main Flask app. Each blueprint can contain its own routes, templates, static files, and error handlers.\n",
        "\n",
        "**Key Points**\n",
        "**Modularization**\n",
        "\n",
        "Instead of keeping all routes in a single file, you can split functionality into multiple blueprints:\n",
        "e.g., auth blueprint for authentication, blog blueprint for posts.\n",
        "\n",
        "**Reusability**\n",
        "\n",
        "Blueprints can be registered in multiple apps or reused in different projects.\n",
        "**Separation of Concerns**\n",
        "\n",
        "Helps in maintaining large applications by keeping related code together.\n",
        "**Ease of Maintenance**\n",
        "\n",
        "Makes codebase cleaner and more scalable.\n",
        "Adding a new feature often means just creating a new blueprint.\n",
        "\n",
        "Example: Creating a Blueprint\n",
        "Step 1: Create a Blueprint (auth.py)\n",
        "from flask import Blueprint, jsonify\n",
        "\n",
        "# Create blueprint instance\n",
        "auth_bp = Blueprint('auth', __name__)\n",
        "\n",
        "# Define routes under this blueprint\n",
        "@auth_bp.route(\"/login\")\n",
        "def login():\n",
        "    return jsonify({\"message\": \"Login Page\"})\n",
        "\n",
        "@auth_bp.route(\"/register\")\n",
        "def register():\n",
        "    return jsonify({\"message\": \"Register Page\"})\n",
        "Step 2: Register Blueprint in Main App (app.py)\n",
        "from flask import Flask\n",
        "from auth import auth_bp  # import blueprint\n",
        "\n",
        "app = Flask(__name__)\n",
        "\n",
        "# Register the blueprint\n",
        "app.register_blueprint(auth_bp, url_prefix=\"/auth\")  # all routes will start with /auth\n",
        "\n",
        "if __name__ == \"__main__\":\n",
        "    app.run(debug=True)"
      ],
      "metadata": {
        "id": "iK0C-IDfnn5r"
      }
    },
    {
      "cell_type": "markdown",
      "source": [
        "**Q13. What is the purpose of Flask's request object?**\n",
        "\n",
        "->In Flask, the request object is used to access incoming request data sent by the client (browser, API consumer, etc.).\n",
        "It is part of Flask’s flask module and represents the HTTP request that triggered the current route.\n",
        "\n",
        "The request object allows you to handle:\n",
        "\n",
        "Form data (POST requests)\n",
        "Query parameters (GET requests)\n",
        "Headers\n",
        "Cookies\n",
        "Files uploaded by the client\n",
        "JSON data\n",
        "\n",
        "\n",
        "**Key Points**\n",
        "\n",
        "Access Query Parameters (GET)\n",
        "\n",
        "request.args.get(\"param_name\")\n",
        "Access Form Data (POST)\n",
        "\n",
        "request.form.get(\"field_name\")\n",
        "Access JSON Data\n",
        "\n",
        "request.get_json()\n",
        "Access Headers\n",
        "\n",
        "request.headers.get(\"User-Agent\")\n",
        "Access Uploaded Files\n",
        "request.files[\"file\"]\n",
        "\n"
      ],
      "metadata": {
        "id": "9hgpa8gfoUVk"
      }
    },
    {
      "cell_type": "markdown",
      "source": [
        "**Q14.How do you create a RESTful API endpoint using Flask?**\n",
        "\n",
        "->A RESTful API endpoint in Flask is a URL route that allows clients to perform CRUD operations (Create, Read, Update, Delete) on a resource.\n",
        "Flask makes it simple to build such endpoints using routes, HTTP methods, and the request/response objects.\n",
        "\n",
        "**Steps to Create a RESTful API Endpoint:**\n",
        "Import Flask and required modules\n",
        "Create a Flask app instance\n",
        "Define a route using @app.route()\n",
        "Specify allowed HTTP methods (GET, POST, PUT, DELETE)\n",
        "Use request object to get client data\n",
        "Return JSON responses with jsonify\n",
        "\n",
        "\n",
        "from flask import Flask, request, jsonify\n",
        "\n",
        "app = Flask(__name__)\n",
        "\n",
        "# In-memory \"database\"\n",
        "books = [\n",
        "    {\"id\": 1, \"title\": \"The Alchemist\", \"author\": \"Paulo Coelho\"},\n",
        "    {\"id\": 2, \"title\": \"1984\", \"author\": \"George Orwell\"}\n",
        "]\n",
        "\n",
        "# -------------------------------\n",
        "# GET all books\n",
        "# -------------------------------\n",
        "@app.route('/books', methods=['GET'])\n",
        "def get_books():\n",
        "    return jsonify(books), 200\n",
        "\n",
        "# -------------------------------\n",
        "# GET a single book by ID\n",
        "# -------------------------------\n",
        "@app.route('/books/<int:book_id>', methods=['GET'])\n",
        "def get_book(book_id):\n",
        "    book = next((b for b in books if b[\"id\"] == book_id), None)\n",
        "    if book:\n",
        "        return jsonify(book), 200\n",
        "    return jsonify({\"error\": \"Book not found\"}), 404\n",
        "\n",
        "# -------------------------------\n",
        "# POST (create a new book)\n",
        "# -------------------------------\n",
        "@app.route('/books', methods=['POST'])\n",
        "def create_book():\n",
        "    data = request.get_json()\n",
        "    new_book = {\n",
        "        \"id\": books[-1][\"id\"] + 1 if books else 1,\n",
        "        \"title\": data.get(\"title\"),\n",
        "        \"author\": data.get(\"author\")\n",
        "    }\n",
        "    books.append(new_book)\n",
        "    return jsonify(new_book), 201\n",
        "\n",
        "# -------------------------------\n",
        "# PUT (update an existing book)\n",
        "# -------------------------------\n",
        "@app.route('/books/<int:book_id>', methods=['PUT'])\n",
        "def update_book(book_id):\n",
        "    data = request.get_json()\n",
        "    for book in books:\n",
        "        if book[\"id\"] == book_id:\n",
        "            book[\"title\"] = data.get(\"title\", book[\"title\"])\n",
        "            book[\"author\"] = data.get(\"author\", book[\"author\"])\n",
        "            return jsonify(book), 200\n",
        "    return jsonify({\"error\": \"Book not found\"}), 404\n",
        "\n",
        "# -------------------------------\n",
        "# DELETE a book\n",
        "# -------------------------------\n",
        "@app.route('/books/<int:book_id>', methods=['DELETE'])\n",
        "def delete_book(book_id):\n",
        "    global books\n",
        "    books = [b for b in books if b[\"id\"] != book_id]\n",
        "    return jsonify({\"message\": \"Book deleted\"}), 200\n",
        "\n",
        "if __name__ == '__main__':\n",
        "    app.run(debug=True)\n"
      ],
      "metadata": {
        "id": "DwTPnFrEoqww"
      }
    },
    {
      "cell_type": "markdown",
      "source": [
        "**Q15.What is the purpose of Flask's jsonify() function?**\n",
        "\n",
        "**->Purpose of Flask's jsonify() Function**\n",
        "\n",
        "The Flask jsonify() function is used to convert Python data structures (e.g., dictionaries, lists) into a JSON-formatted response with the appropriate HTTP headers for use in APIs.\n",
        "\n",
        "**Key Purposes**\n",
        "Serialize to JSON: Converts Python objects (like dictionaries or lists) into a JSON string.\n",
        "Set Correct Headers: Automatically sets the Content-Type header to application/json in the HTTP response.\n",
        "Simplify API Responses: Ensures responses are properly formatted for RESTful APIs, making them consumable by clients (e.g., browsers, mobile apps).\n",
        "Handle Nested Data: Supports serialization of complex nested Python objects (e.g., lists of dictionaries) into valid JSON."
      ],
      "metadata": {
        "id": "Bvtuwx0yMtUe"
      }
    },
    {
      "cell_type": "code",
      "source": [
        "## Example\n",
        "from flask import Flask, jsonify\n",
        "\n",
        "app = Flask(__name__)\n",
        "\n",
        "@app.route('/api/data')\n",
        "def get_data():\n",
        "    data = {\"id\": 1, \"name\": \"Alice\", \"skills\": [\"Python\", \"Flask\"]}\n",
        "    return jsonify(data)"
      ],
      "metadata": {
        "id": "IK_YaAfJqX1h"
      },
      "execution_count": null,
      "outputs": []
    },
    {
      "cell_type": "markdown",
      "source": [
        "**Q16.Explain Flask’s url_for() function.**\n",
        "\n",
        "**->Flask's url_for() Function**\n",
        "\n",
        "The Flask url_for() function generates URLs for routes defined in a Flask application based on the endpoint name and optional parameters. It provides a dynamic and maintainable way to reference URLs without hardcoding them.\n",
        "\n",
        "**Purpose**\n",
        "\n",
        "Dynamic URL Generation: Builds URLs for routes based on their endpoint names, ensuring consistency even if the route's URL path changes.\n",
        "Avoid Hardcoding: Prevents manually writing URLs, reducing errors and maintenance effort.\n",
        "Handle Parameters: Easily includes route parameters (e.g., /user/<id>) in the generated URL.\n",
        "Context Awareness: Works within the Flask application context to generate correct URLs, including any URL prefixes.\n",
        "\n",
        "**Benefits of url_for()**\n",
        "\n",
        "Avoids hardcoding URLs\n",
        "\n",
        "Updates automatically if route paths change\n",
        "\n",
        "Supports passing arguments to routes.\n",
        "\n",
        "________________________________________________________\n",
        "\n",
        "Example:Example\n",
        "from flask import Flask, url_for\n",
        "\n",
        "app = Flask(__name__)\n",
        "\n",
        "@app.route('/')\n",
        "def home():\n",
        "    return 'Home Page'\n",
        "\n",
        "@app.route('/user/<username>')\n",
        "def profile(username):\n",
        "    return f'Profile: {username}'\n",
        "\n",
        "@app.route('/test')\n",
        "def test():\n",
        "    # Generate URLs dynamically\n",
        "    home_url = url_for('home')  # Returns '/'\n",
        "    profile_url = url_for('profile', username='Alice')  # Returns '/user/Alice'\n",
        "    return f'Home URL: {home_url}, Profile URL: {profile_url}'\n",
        "        "
      ],
      "metadata": {
        "id": "Jp5mPiiANMsx"
      }
    },
    {
      "cell_type": "markdown",
      "source": [
        "**Q17.How does Flask handle static files (CSS, JavaScript, etc.)?**\n",
        "\n",
        "**->Handling Static Files in Flask**\n",
        "Flask handles static files (e.g., CSS, JavaScript, images) by serving them from a designated static folder in the project directory. This allows web applications to deliver assets like stylesheets, scripts, and images to clients efficiently.\n",
        "\n",
        "**How Flask Handles Static Files**\n",
        "**Default Static Folder**\n",
        "Flask automatically looks for static files in a folder named static in the project root. The folder can contain CSS, JavaScript, images, etc.\n",
        "\n",
        "**Static Route**\n",
        "Flask provides a default route /static/<filename> to access files in the static folder. For example, /static/style.css serves static/style.css.\n",
        "\n",
        "**Using url_for for Static Files**\n",
        "Use the url_for('static', filename='path/to/file') function to generate URLs for static files dynamically, ensuring flexibility if the static path changes.\n",
        "\n",
        "**Example**\n",
        "Project Structure\n",
        "my_flask_app/ │ ├── app.py ├── static/ │ ├── style.css │ ├── script.js │ └── images/ └── templates/ └── index.html"
      ],
      "metadata": {
        "id": "4Q57bJjkVrQ5"
      }
    },
    {
      "cell_type": "markdown",
      "source": [
        "\n",
        "**Q18.What is an API specification, and how does it help in building a Flask API?**\n",
        "\n",
        "->An **API specification** is a **formal document or blueprint** that defines how an API behaves and how clients can interact with it.\n",
        "It describes:\n",
        "\n",
        "Endpoints (URLs/routes)\n",
        "HTTP methods (GET, POST, PUT, DELETE)\n",
        "Request parameters and body formats\n",
        "Response formats and status codes\n",
        "Authentication and headers\n",
        "In short, it acts as a contract between the API developer and API consumers, ensuring everyone knows how to use the API correctly.\n",
        "\n",
        "🔑 **Key Points**\n",
        "**Standardization**\n",
        "\n",
        "Defines a consistent way of building and consuming APIs.\n",
        "Examples: OpenAPI (Swagger), RAML, API Blueprint\n",
        "**Helps in Design Before Coding**\n",
        "\n",
        "You can plan endpoints, request/response structure, and error handling before writing Flask code.\n",
        "Reduces miscommunication and bugs.\n",
        "**Documentation & Testing**\n",
        "\n",
        "Serves as live documentation for clients.\n",
        "Tools like Swagger UI can automatically generate interactive API docs from a specification.\n",
        "**Facilitates Team Collaboration**\n",
        "\n",
        "Frontend developers, QA testers, and backend developers can work independently using the spec.\n",
        "**Enables Code Generation**\n",
        "\n",
        "Many tools can generate Flask route templates, client SDKs, and test cases from the specification.\n"
      ],
      "metadata": {
        "id": "W397i5xwWX-8"
      }
    },
    {
      "cell_type": "markdown",
      "source": [
        "**Q19.What are HTTP status codes, and why are they important in a Flask API?**\n",
        "\n",
        "->HTTP status codes are essential in Flask APIs because they tell the client what happened with the request, help debug issues, and ensure your API communicates in a standard, predictable way.\n",
        "\n",
        "**HTTP Status Codes in Flask APIs**\n",
        "HTTP status codes are standardized three-digit codes returned by a server in response to a client's HTTP request. They indicate the outcome of the request, such as success, failure, or redirection. They are grouped into five categories:\n",
        "\n",
        "1xx (Informational): Request received, processing (e.g., 100 Continue).\n",
        "2xx (Success): Request successfully processed (e.g., 200 OK, 201 Created).\n",
        "3xx (Redirection): Further action needed (e.g., 301 Moved Permanently).\n",
        "4xx (Client Error): Client-side issues (e.g., 404 Not Found, 400 Bad Request).\n",
        "5xx (Server Error): Server-side issues (e.g., 500 Internal Server Error).\n",
        "\n",
        "**Importance in a Flask API **\n",
        "**Communicate Request Outcome**\n",
        "Status codes inform clients (e.g., browsers, apps) whether the request succeeded or failed and why, enabling appropriate handling.\n",
        "\n",
        "**Standardization**\n",
        "Using standard codes ensures compatibility with RESTful conventions, making the API predictable and interoperable.\n",
        "\n",
        "**Error Handling**\n",
        "Codes like 400, 401, or 404 help clients understand specific errors (e.g., invalid input, unauthorized access, or missing resources).\n",
        "\n",
        "**Improve User Experience**\n",
        "Clear status codes allow clients to provide meaningful feedback to users (e.g., \"Resource not found\" for 404).\n",
        "\n",
        "**Debugging and Maintenance**\n",
        "Status codes help developers identify issues during testing and debugging, improving API reliability."
      ],
      "metadata": {
        "id": "c2cv0LUljDHo"
      }
    },
    {
      "cell_type": "markdown",
      "source": [
        "**Q20. How do you handle POST requests in Flask?**\n",
        "\n",
        "->In Flask, a POST request is used when the client wants to send data to the server, such as creating a new resource.\n",
        "Flask provides the request object to access this data, which can come in the form of form data, JSON, or files.\n",
        "\n",
        "**Steps to Handle POST Requests**\n",
        "**Specify POST in the route**\n",
        "\n",
        "@app.route(\"/endpoint\", methods=[\"POST\"])\n",
        "**Access Data Using request**\n",
        "\n",
        "Form Data: request.form.get(\"field_name\")\n",
        "\n",
        "JSON Data: request.get_json()\n",
        "\n",
        "Files: request.files[\"file\"]\n",
        "\n",
        "**Return a Response**\n",
        "Usually in JSON format for APIs using jsonify()\n",
        "\n",
        "Include HTTP status codes like 201 Created or 400 Bad Request.\n",
        "\n",
        "**Example 1**:** Handling JSON POST Request**\n",
        "from flask import Flask, request, jsonify\n",
        "\n",
        "app = Flask(__name__)\n",
        "\n",
        "books = {}\n",
        "\n",
        "@app.route(\"/books\", methods=[\"POST\"])\n",
        "def add_book():\n",
        "   data = request.get_json()  # Get JSON data from client\n",
        "   if not data or not data.get(\"title\") or not data.get(\"author\"):\n",
        "       return jsonify({\"error\": \"Title and author required\"}), 400\n",
        "\n",
        "   book_id = len(books) + 1\n",
        "   books[book_id] = {\"title\": data[\"title\"], \"author\": data[\"author\"]}\n",
        "   return jsonify({\"id\": book_id, \"message\": \"Book added\"}), 201\n",
        "Client sends JSON:\n",
        "{\n",
        "  \"title\": \"Flask Mastery\",\n",
        "  \"author\": \"Ritesh\"\n",
        "}\n",
        "Server responds:\n",
        "{\n",
        "  \"id\": 1,\n",
        "  \"message\": \"Book added\"\n",
        "}\n",
        "Status code: 201 Created"
      ],
      "metadata": {
        "id": "qMkiWrckjsJK"
      }
    },
    {
      "cell_type": "markdown",
      "source": [
        "**21.How would you secure a Flask API?**\n",
        "\n",
        "->When you build a Flask API, it’s important to keep it safe from hackers and misuse. Here’s how you can do it in simple steps:\n",
        "\n",
        "**1. Use HTTPS**\n",
        "\n",
        "Always use HTTPS instead of HTTP.\n",
        "\n",
        "HTTPS encrypts the data between the user and your server, so no one can read it while it’s being sent.\n",
        "\n",
        "**2. Authentication**\n",
        "\n",
        "Make sure only authorized users can use your API.\n",
        "\n",
        "Common ways to do this:\n",
        "\n",
        "a. API Keys\n",
        "\n",
        ".Give each user a unique key.\n",
        "\n",
        "The user sends this key with requests to prove they are allowed.\n",
        "\n",
        "b. JWT (JSON Web Tokens)\n",
        "\n",
        "Users log in → server gives a token → user sends token in future requests.\n",
        "\n",
        "This ensures only logged-in users can access protected endpoints.\n",
        "\n",
        "**3. Validate User Input**\n",
        "\n",
        "Never trust data from the user. Always check it carefully.\n",
        "\n",
        "This prevents attacks like SQL injection or hacking your server.\n",
        "\n",
        "You can use libraries like Marshmallow to check the data automatically.\n",
        "\n",
        "**4. Rate Limiting**\n",
        "\n",
        "Limit the number of requests a user or IP can make in a short time.\n",
        "\n",
        "Example: “Only 5 requests per minute.”\n",
        "\n",
        "This stops hackers from flooding your API.\n",
        "\n",
        "**5. Handle Errors Safely**\n",
        "\n",
        "Don’t show detailed error messages to the user.\n",
        "\n",
        "Example: Instead of showing the server’s internal errors, just show:\n",
        "\n",
        "{\"error\": \"Something went wrong\"}\n",
        "\n",
        "**6. Control Access with CORS**\n",
        "\n",
        "Only allow trusted websites to access your API.\n",
        "\n",
        "Example: If your frontend is myfrontend.com, only this site should be allowed.\n",
        "\n",
        "**7. Keep Everything Updated**\n",
        "\n",
        "Always use the latest versions of Flask and other libraries.\n",
        "\n",
        "Updates often fix security problems.\n",
        "\n"
      ],
      "metadata": {
        "id": "ABFlgY-fkf7e"
      }
    },
    {
      "cell_type": "markdown",
      "source": [
        "**22. What is the significance of the Flask-RESTful extension?**\n",
        "\n",
        "->Flask-RESTful is a Flask extension that helps developers build RESTful APIs easily and quickly.\n",
        "\n",
        "It provides tools to organize code using resources (classes), handle HTTP methods (GET, POST, PUT, DELETE), manage request parsing, and improve error handling, making the API development process more clean, structured, and efficient.\n",
        "\n",
        "**Significance of the Flask-RESTful Extension**\n",
        "**Definition:** Flask-RESTful is an extension for Flask that simplifies the development of RESTful APIs by providing tools and abstractions to define resources, handle requests, and structure responses in a clean and consistent manner.\n",
        "\n",
        "**Significance**\n",
        "**Simplified API Development**\n",
        "Flask-RESTful provides a Resource class to define API endpoints as resources, reducing boilerplate code and making routes easier to manage.\n",
        "\n",
        "**RESTful Conventions**\n",
        "Encourages adherence to REST principles (e.g., statelessness, standard HTTP methods like GET, POST, PUT, DELETE) for consistent and scalable API design.\n",
        "\n",
        "**Request Parsing**\n",
        "Offers a built-in reqparse module to validate and parse incoming request data (e.g., query parameters, JSON payloads), ensuring robust input handling.\n",
        "\n",
        "**Structured Responses**\n",
        "Simplifies returning JSON responses with proper HTTP status codes, streamlining client-server communication.\n",
        "\n",
        "**Resource-Based Organization**\n",
        "Organizes endpoints around resources (e.g., /users, /items) rather than raw routes, improving code modularity and maintainability.\n",
        "\n",
        "**Extensibility**\n",
        "Integrates easily with other Flask extensions (e.g., Flask-SQLAlchemy) and supports custom fields and authentication for complex APIs."
      ],
      "metadata": {
        "id": "dLx3I0LBlCec"
      }
    },
    {
      "cell_type": "markdown",
      "source": [
        "**Q23.What is the role of Flask’s session object?**\n",
        "\n",
        "->**Role of Flask's Session Object**\n",
        "Definition: Flask's session object is a dictionary-like interface that allows developers to store user-specific data across multiple HTTP requests in a Flask application. It provides a way to maintain state in a stateless HTTP environment by storing data on the server or client side (typically as a secure cookie).\n",
        "\n",
        "**Key Roles**\n",
        "**Persistent User Data Storage**\n",
        "Stores user-specific data (e.g., user ID, preferences) between requests, enabling a personalized user experience.\n",
        "\n",
        "**State Management**\n",
        "Maintains session state for users, such as login status or shopping cart contents, during their interaction with the application.\n",
        "\n",
        "**Secure Cookie-Based Storage**\n",
        "By default, stores data in a client-side cookie, signed cryptographically to prevent tampering, ensuring security.\n",
        "\n",
        "**Temporary Data Handling**\n",
        "Allows temporary storage of data (e.g., form data during multi-step processes) that persists for the duration of the session."
      ],
      "metadata": {
        "id": "IJjgw3snlo4a"
      }
    },
    {
      "cell_type": "markdown",
      "source": [
        "#**Practical Solutions :**"
      ],
      "metadata": {
        "id": "8_5b_E0bmET8"
      }
    },
    {
      "cell_type": "markdown",
      "source": [
        "\n",
        "**Q1.How do you create a basic Flask application?**\n",
        "->A basic Flask application involves:\n",
        "\n",
        "Installing Flask: Ensure Flask is installed in your environment.\n",
        "Creating a Flask app instance.\n",
        "Defining routes to handle requests.\n",
        "Running the app to start the development server.\n",
        "Flask applications are lightweight and easy to set up, making them ideal for small APIs or prototypes."
      ],
      "metadata": {
        "id": "eh-pCakamY_M"
      }
    },
    {
      "cell_type": "code",
      "source": [
        "Steps\n",
        "Install Flask\n",
        "!pip install flask\n",
        "Create a Python file (e.g., app.py) with the following content:\n",
        "# Import Flask\n",
        "from flask import Flask\n",
        "\n",
        "# Create a Flask app instance\n",
        "app = Flask(__name__)\n",
        "\n",
        "# Define a route for the home page\n",
        "@app.route(\"/\")\n",
        "def home():\n",
        "    return \"Hello, Flask!\"\n",
        "\n",
        "# Run the app\n",
        "if __name__ == \"__main__\":\n",
        "    app.run(debug=True)"
      ],
      "metadata": {
        "id": "aVaJvYSyqW0S"
      },
      "execution_count": null,
      "outputs": []
    },
    {
      "cell_type": "markdown",
      "source": [
        "**How it Works**\n",
        "Flask(__name__) creates the Flask app instance.\n",
        "@app.route(\"/\") defines a route (URL endpoint) for the home page.\n",
        "The home() function returns the response when the route is accessed.\n",
        "app.run(debug=True) starts the server in debug mode, enabling automatic reload on code changes.\n",
        "**Testing**\n",
        "Run the Python file:\n",
        "python app.py\n",
        "Open your browser and visit:\n",
        "pyhton\n",
        "\n",
        "http://127.0.0.1:5000/\n",
        "\n",
        "You should see:\n",
        "Hello, Flask!"
      ],
      "metadata": {
        "id": "ONxJDs5lmNCW"
      }
    },
    {
      "cell_type": "markdown",
      "source": [
        "**Q2. How do you serve static files like images or CSS in Flask?**\n",
        "\n",
        "->Flask serves static files (CSS, JavaScript, images, fonts) using a dedicated static folder.\n",
        "These files are accessible via the /static URL path. Using url_for('static', filename='...') ensures paths are dynamic and correct, avoiding hardcoding.\n",
        "\n",
        "\n",
        "**Key Points**\n",
        "\n",
        "Place all static files in a folder named static inside your Flask project:\n",
        "my_flask_app/\n",
        "├─ app.py\n",
        "├─ static/\n",
        "│ ├─ style.css\n",
        "│ ├─ script.js\n",
        "│ └─ logo.png\n",
        "└─ templates/\n",
        "└─ index.html\n",
        "\n",
        "**Access static files in HTML templates:**\n",
        "html\n",
        "<link rel=\"stylesheet\" href=\"{{ url_for('static', filename='style.css') }}\">\n",
        "<script src=\"{{ url_for('static', filename='script.js') }}\"></script>\n",
        "<img src=\"{{ url_for('static', filename='logo.png') }}\" alt=\"Logo\">\n",
        "Flask automatically serves files in the static folder at /static/<filename>.\n",
        "\n",
        "**Example: Minimal Flask App with Static Files**"
      ],
      "metadata": {
        "id": "fW17_jrlqyLq"
      }
    },
    {
      "cell_type": "code",
      "source": [
        "from flask import Flask, render_template\n",
        "\n",
        "app = Flask(__name__)\n",
        "\n",
        "@app.route(\"/\")\n",
        "def home():\n",
        "    return render_template(\"index.html\")\n",
        "\n",
        "if __name__ == \"__main__\":\n",
        "    app.run(debug=True)\n",
        "templates/index.html\n",
        "\n",
        "<!DOCTYPE html>\n",
        "<html>\n",
        "<head>\n",
        "    <title>Flask Static Example</title>\n",
        "    <link rel=\"stylesheet\" href=\"{{ url_for('static', filename='style.css') }}\">\n",
        "</head>\n",
        "<body>\n",
        "    <h1>Hello, Flask!</h1>\n",
        "    <img src=\"{{ url_for('static', filename='logo.png') }}\" alt=\"Logo\">\n",
        "    <script src=\"{{ url_for('static', filename='script.js') }}\"></script>\n",
        "</body>\n",
        "</html>"
      ],
      "metadata": {
        "id": "_wGyOmUrrO5l"
      },
      "execution_count": null,
      "outputs": []
    },
    {
      "cell_type": "markdown",
      "source": [
        "**Q3.How do you define different routes with different HTTP methods in Flask?**\n",
        "\n",
        "->In Flask, routes define which function handles a specific URL endpoint.\n",
        "By default, routes handle GET requests, but you can specify multiple HTTP methods like POST, PUT, DELETE, etc.\n",
        "\n",
        "GET → Retrieve data from the server\n",
        "POST → Send or create new data on the server\n",
        "PUT → Update existing data\n",
        "DELETE → Remove data\n",
        "Use the methods argument in @app.route() to allow multiple HTTP methods for the same route\n",
        "\n",
        "**Example: Different Routes and Methods**"
      ],
      "metadata": {
        "id": "5mf4zbkSsnbw"
      }
    },
    {
      "cell_type": "code",
      "source": [
        "from flask import Flask, request, jsonify\n",
        "\n",
        "app = Flask(__name__)\n",
        "\n",
        "# GET request to fetch data\n",
        "@app.route(\"/books\", methods=[\"GET\"])\n",
        "def get_books():\n",
        "    books = [\"Python Basics\", \"Flask Mastery\", \"Data Science 101\"]\n",
        "    return jsonify({\"books\": books})\n",
        "\n",
        "# POST request to create new data\n",
        "@app.route(\"/books\", methods=[\"POST\"])\n",
        "def add_book():\n",
        "    data = request.get_json()\n",
        "    title = data.get(\"title\")\n",
        "    return jsonify({\"message\": f\"Book '{title}' added successfully!\"}), 201\n",
        "\n",
        "# PUT request to update data\n",
        "@app.route(\"/books/<int:book_id>\", methods=[\"PUT\"])\n",
        "def update_book(book_id):\n",
        "    data = request.get_json()\n",
        "    title = data.get(\"title\")\n",
        "    return jsonify({\"message\": f\"Book ID {book_id} updated to '{title}'\"})\n",
        "\n",
        "# DELETE request to remove data\n",
        "@app.route(\"/books/<int:book_id>\", methods=[\"DELETE\"])\n",
        "def delete_book(book_id):\n",
        "    return jsonify({\"message\": f\"Book ID {book_id} deleted successfully!\"})\n",
        "How it Works\n",
        "methods=[\"GET\"] → This route only responds to GET requests.\n",
        "methods=[\"POST\"] → This route only responds to POST requests.\n",
        "Routes can handle dynamic segments, e.g., /books/<int:book_id>.\n",
        "Each HTTP method corresponds to a specific action on the server (CRUD operations)."
      ],
      "metadata": {
        "id": "3VBL02q7tCph"
      },
      "execution_count": null,
      "outputs": []
    },
    {
      "cell_type": "markdown",
      "source": [
        "**Q4.How do you render HTML templates in Flask?**\n",
        "\n",
        "->Flask uses the Jinja2 template engine to render HTML templates.\n",
        "Templates allow you to separate HTML presentation from Python logic, making your web app more organized and maintainable.\n",
        "\n",
        "**Templates folder**: Flask automatically looks for HTML files inside a folder named templates.\n",
        "**render_template()**: Function used to render templates and optionally pass variables from Python to HTML."
      ],
      "metadata": {
        "id": "emcC5QpIw4PX"
      }
    },
    {
      "cell_type": "code",
      "source": [
        "Steps\n",
        "Create a folder named templates in your project:\n",
        "my_flask_app/\n",
        "├─ app.py\n",
        "└─ templates/\n",
        "└─ index.html\n",
        "HTML template (index.html):\n",
        "<!DOCTYPE html>\n",
        "<html>\n",
        "<head>\n",
        "    <title>Flask Template Example</title>\n",
        "</head>\n",
        "<body>\n",
        "    <h1>Hello, {{ username }}!</h1>\n",
        "</body>\n",
        "</html>\n",
        "Flask application (app.py):\n",
        "from flask import Flask, render_template\n",
        "\n",
        "app = Flask(__name__)\n",
        "\n",
        "@app.route(\"/\")\n",
        "def home():\n",
        "    # Pass a variable 'username' to the template\n",
        "    return render_template(\"index.html\", username=\"Ritesh\")\n",
        "\n",
        "if __name__ == \"__main__\":\n",
        "    app.run(debug=True)\n",
        "How it Works\n",
        "render_template(\"index.html\", username=\"Ritesh\"):\n",
        "Loads index.html from the templates folder.\n",
        "Replaces {{ username }} in HTML with the Python variable value.\n",
        "Allows dynamic content in HTML without mixing HTML and Python logic."
      ],
      "metadata": {
        "id": "wwJQovQlxeqa"
      },
      "execution_count": null,
      "outputs": []
    },
    {
      "cell_type": "markdown",
      "source": [
        "**Q5.How can you generate URLs for routes in Flask using url_for?**\n",
        "\n",
        "->In Flask, **url_for()** is used to **dynamically generate URLs** for routes.\n",
        "\n",
        "It helps avoid hardcoding URLs in your templates or Python code.\n",
        "Ensures your app works even if route paths change in the future.\n",
        "**Syntax:**\n",
        "\n",
        "url_for(endpoint_name, **values)\n",
        "endpoint_name → The name of the view function (not the URL).\n",
        "\n",
        "**values → Optional parameters for dynamic URLs.\n",
        "\n",
        "**Example:** Using url_for in Flask"
      ],
      "metadata": {
        "id": "y49M0EqVxjQx"
      }
    },
    {
      "cell_type": "code",
      "source": [
        "from flask import Flask, url_for, redirect, render_template\n",
        "\n",
        "app = Flask(__name__)\n",
        "\n",
        "@app.route(\"/\")\n",
        "def home():\n",
        "    return render_template(\"home.html\")\n",
        "\n",
        "@app.route(\"/profile/<username>\")\n",
        "def profile(username):\n",
        "    return f\"Hello, {username}!\"\n",
        "\n",
        "@app.route(\"/go-to-profile\")\n",
        "def go_to_profile():\n",
        "    # Dynamically generate URL for the profile route\n",
        "    profile_url = url_for(\"profile\", username=\"Ritesh\")\n",
        "    return redirect(profile_url)\n",
        "\n",
        "if __name__ == \"__main__\":\n",
        "    app.run(debug=True)\n",
        "templates/home.html\n",
        "\n",
        "<!DOCTYPE html>\n",
        "<html>\n",
        "<head>\n",
        "    <title>Flask url_for Example</title>\n",
        "</head>\n",
        "<body>\n",
        "    <h1>Welcome Home!</h1>\n",
        "    <!-- Generate link to profile dynamically -->\n",
        "    <a href=\"{{ url_for('profile', username='Ritesh') }}\">Go to Profile</a>\n",
        "</body>\n",
        "</html>"
      ],
      "metadata": {
        "id": "rzygnTTk_cP0"
      },
      "execution_count": null,
      "outputs": []
    },
    {
      "cell_type": "markdown",
      "source": [
        "**How it Works**\n",
        "\n",
        "->url_for('profile', username='Ritesh') generates /profile/Ritesh.\n",
        "Works in Python code (for redirects) and templates (for links).\n",
        "Ensures URLs update automatically if the route path changes."
      ],
      "metadata": {
        "id": "0DzUeLfGACzv"
      }
    },
    {
      "cell_type": "markdown",
      "source": [
        "**Q6.How do you handle forms in Flask?**\n",
        "\n",
        "->Flask allows handling HTML forms by using the request object.\n",
        "\n",
        "Forms usually submit data via POST method.\n",
        "Flask provides request.form to access form fields.\n",
        "You can also use WTForms for more advanced form handling and validation.\n",
        "\n",
        "**Steps to Handle Forms**"
      ],
      "metadata": {
        "id": "QosIlYflAbcs"
      }
    },
    {
      "cell_type": "code",
      "source": [
        "Create an HTML form in a template (templates/form.html):\n",
        "<!DOCTYPE html>\n",
        "<html>\n",
        "<head>\n",
        "    <title>Flask Form Example</title>\n",
        "</head>\n",
        "<body>\n",
        "    <h1>Submit Your Name</h1>\n",
        "    <form method=\"POST\" action=\"/submit\">\n",
        "        Name: <input type=\"text\" name=\"username\">\n",
        "        <input type=\"submit\" value=\"Submit\">\n",
        "    </form>\n",
        "</body>\n",
        "</html>\n",
        "Create a Flask route to render the form and handle submission:\n",
        "from flask import Flask, request, render_template, redirect, url_for\n",
        "\n",
        "app = Flask(__name__)\n",
        "\n",
        "# Route to display the form\n",
        "@app.route(\"/\")\n",
        "def home():\n",
        "    return render_template(\"form.html\")\n",
        "\n",
        "# Route to handle form submission\n",
        "@app.route(\"/submit\", methods=[\"POST\"])\n",
        "def submit():\n",
        "    username = request.form.get(\"username\")  # Get the value of the 'username' field\n",
        "    if not username:\n",
        "        return \"Please enter a name.\", 400\n",
        "    return f\"Hello, {username}! Form submitted successfully.\"\n",
        "\n",
        "if __name__ == \"__main__\":\n",
        "    app.run(debug=True)"
      ],
      "metadata": {
        "id": "tzOxMIMrAtzl"
      },
      "execution_count": null,
      "outputs": []
    },
    {
      "cell_type": "markdown",
      "source": [
        "**How it Works**\n",
        "method=\"POST\" in the form tells the browser to submit data using POST request.\n",
        "request.form.get(\"field_name\") fetches the value of a form field.\n",
        "You can validate the input before processing.\n",
        "The form can redirect or render a response after submission."
      ],
      "metadata": {
        "id": "HHf9VvvtAxwT"
      }
    },
    {
      "cell_type": "markdown",
      "source": [
        "\n",
        "**Q7.How can you validate form data in Flask?**\n",
        "\n",
        "->Validating form data ensures that user input is correct, safe, and meets expected criteria before processing or storing it.\n",
        "In Flask, you can validate form data in two main ways:\n",
        "\n",
        "Manual validation using request.form and Python logic.\n",
        "Using Flask-WTForms, a powerful library for form handling and validation.\n",
        "\n",
        "**Method 1: Manual Validation**"
      ],
      "metadata": {
        "id": "JJrrS1a0A3r4"
      }
    },
    {
      "cell_type": "code",
      "source": [
        "from flask import Flask, request, render_template\n",
        "\n",
        "app = Flask(__name__)\n",
        "\n",
        "@app.route(\"/\")\n",
        "def home():\n",
        "    return render_template(\"form.html\")\n",
        "\n",
        "@app.route(\"/submit\", methods=[\"POST\"])\n",
        "def submit():\n",
        "    username = request.form.get(\"username\")\n",
        "    age = request.form.get(\"age\")\n",
        "\n",
        "    # Manual validation\n",
        "    if not username:\n",
        "        return \"Username is required\", 400\n",
        "    if not age or not age.isdigit() or int(age) < 0:\n",
        "        return \"Age must be a positive number\", 400\n",
        "\n",
        "    return f\"Hello, {username}! You are {age} years old.\"\n",
        "\n",
        "if __name__ == \"__main__\":\n",
        "    app.run(debug=True)\n",
        "Checks if fields are empty, numeric, or meet custom conditions."
      ],
      "metadata": {
        "id": "TMikSn1WBJm8"
      },
      "execution_count": null,
      "outputs": []
    },
    {
      "cell_type": "markdown",
      "source": [
        "**Method 2: Using Flask-WTForms**"
      ],
      "metadata": {
        "id": "bcTXArHjBSEC"
      }
    },
    {
      "cell_type": "code",
      "source": [
        "Install WTForms:\n",
        "!pip install flask-wtf\n",
        "Create a form class:\n",
        "from flask_wtf import FlaskForm\n",
        "from wtforms import StringField, IntegerField\n",
        "from wtforms.validators import DataRequired, NumberRange\n",
        "\n",
        "class UserForm(FlaskForm):\n",
        "    username = StringField(\"Username\", validators=[DataRequired()])\n",
        "    age = IntegerField(\"Age\", validators=[DataRequired(), NumberRange(min=0)])\n",
        "Use form in Flask route:\n",
        "from flask import Flask, render_template, request\n",
        "\n",
        "app = Flask(__name__)\n",
        "app.secret_key = \"supersecretkey\"\n",
        "\n",
        "@app.route(\"/\", methods=[\"GET\", \"POST\"])\n",
        "def home():\n",
        "    form = UserForm()\n",
        "    if form.validate_on_submit():\n",
        "        return f\"Hello, {form.username.data}! You are {form.age.data} years old.\"\n",
        "    return render_template(\"form_wtforms.html\", form=form)\n",
        "validate_on_submit() automatically checks all validators.\n",
        "\n",
        "Displays errors if validation fails"
      ],
      "metadata": {
        "id": "9y1Shx_hBYYU"
      },
      "execution_count": null,
      "outputs": []
    },
    {
      "cell_type": "markdown",
      "source": [
        "**How it Works**\n",
        "Manual validation: You check conditions in Python before processing.\n",
        "WTForms validation: Use prebuilt validators like DataRequired, NumberRange, Email, etc.\n",
        "Ensures clean, safe, and predictable form input for your Flask app."
      ],
      "metadata": {
        "id": "QVOclhqbBdRw"
      }
    },
    {
      "cell_type": "markdown",
      "source": [
        "\n",
        "**Q8.How do you manage sessions in Flask?**\n",
        "\n",
        "->In Flask, a session allows you to store information about a user across multiple requests.\n",
        "\n",
        "Sessions are client-side cookies that are signed using a secret key to prevent tampering.\n",
        "Useful for storing user authentication state, preferences, or temporary data.\n",
        "\n",
        "**Key Points**\n",
        "\n",
        "Sessions behave like a Python dictionary: session['key'] = value\n",
        "Requires a secret key to sign session cookies.\n",
        "Data persists until the browser is closed or session is cleared.\n",
        "\n",
        "**Example: Managing Sessions**"
      ],
      "metadata": {
        "id": "NsAP28_SBjAf"
      }
    },
    {
      "cell_type": "code",
      "source": [
        "from flask import Flask, session, redirect, url_for, request\n",
        "\n",
        "app = Flask(__name__)\n",
        "app.secret_key = \"supersecretkey\"  # Required for session signing\n",
        "\n",
        "@app.route(\"/login\", methods=[\"POST\"])\n",
        "def login():\n",
        "    username = request.form.get(\"username\")\n",
        "    if username:\n",
        "        session[\"username\"] = username  # Store username in session\n",
        "        return f\"Logged in as {username}\"\n",
        "    return \"Username required\", 400\n",
        "\n",
        "@app.route(\"/profile\")\n",
        "def profile():\n",
        "    if \"username\" in session:\n",
        "        return f\"Welcome, {session['username']}!\"\n",
        "    return redirect(url_for(\"login\"))\n",
        "\n",
        "@app.route(\"/logout\")\n",
        "def logout():\n",
        "    session.pop(\"username\", None)  # Remove session key\n",
        "    return \"Logged out successfully\"\n",
        "\n",
        "if __name__ == \"__main__\":\n",
        "    app.run(debug=True)"
      ],
      "metadata": {
        "id": "IX82v2UACHCo"
      },
      "execution_count": null,
      "outputs": []
    },
    {
      "cell_type": "markdown",
      "source": [
        "**How it Works**\n",
        "\n",
        "session[\"username\"] = value → Store user-specific data.\n",
        "session.pop(\"username\", None) → Remove a session key (logout).\n",
        "Flask signs the session cookie using secret_key to prevent tampering.\n",
        "Data persists across multiple routes and requests for the same client."
      ],
      "metadata": {
        "id": "RBEbDB16CK17"
      }
    },
    {
      "cell_type": "markdown",
      "source": [
        "**Q9.How do you redirect to a different route in Flask?**\n",
        "\n",
        "->In Flask, redirecting allows you to send the user to a different URL or route.\n",
        "\n",
        "Commonly used after form submission, login, logout, or when a page has moved.\n",
        "Flask provides the redirect() function along with url_for() to dynamically generate the target URL.\n",
        "\n",
        "**Example: Redirecting Between Routes**"
      ],
      "metadata": {
        "id": "4KEFC8IrCYJR"
      }
    },
    {
      "cell_type": "code",
      "source": [
        "from flask import Flask, redirect, url_for\n",
        "\n",
        "app = Flask(__name__)\n",
        "\n",
        "@app.route(\"/\")\n",
        "def home():\n",
        "    return \"Welcome to the Home Page!\"\n",
        "\n",
        "@app.route(\"/login\")\n",
        "def login():\n",
        "    # Simulate login success\n",
        "    return redirect(url_for(\"profile\"))\n",
        "\n",
        "@app.route(\"/profile\")\n",
        "def profile():\n",
        "    return \"Welcome to your Profile Page!\"\n",
        "\n",
        "if __name__ == \"__main__\":\n",
        "    app.run(debug=True)"
      ],
      "metadata": {
        "id": "J2CavHMgCqaS"
      },
      "execution_count": null,
      "outputs": []
    },
    {
      "cell_type": "markdown",
      "source": [
        "**How it Works**\n",
        "redirect(url_for(\"profile\")):\n",
        "url_for(\"profile\") generates the URL for the profile route.\n",
        "redirect() sends an HTTP 302 response to the browser, instructing it to navigate to the new URL.\n",
        "Ensures dynamic URL generation and avoids hardcoding URLs.\n",
        "Common pattern: POST → redirect → GET to prevent resubmission of forms."
      ],
      "metadata": {
        "id": "-J8Fq1lRCu9i"
      }
    },
    {
      "cell_type": "markdown",
      "source": [
        "**Q10.How do you handle errors in Flask (e.g., 404)?**\n",
        "\n",
        "->Flask allows you to handle errors gracefully using error handlers.\n",
        "\n",
        "Common HTTP errors: 404 Not Found, 500 Internal Server Error, 403 Forbidden, etc.\n",
        "By defining custom error handlers, you can return friendly messages or custom templates instead of default HTML errors\n",
        "\n",
        "**Example: Handling 404 and 500 Errors**"
      ],
      "metadata": {
        "id": "LgMNseDhC8FJ"
      }
    },
    {
      "cell_type": "code",
      "source": [
        "from flask import Flask, render_template, jsonify\n",
        "\n",
        "app = Flask(__name__)\n",
        "\n",
        "@app.route(\"/\")\n",
        "def home():\n",
        "    return \"Welcome to Home Page!\"\n",
        "\n",
        "# Example route that raises an error\n",
        "@app.route(\"/cause-error\")\n",
        "def cause_error():\n",
        "    1 / 0  # Will cause 500 Internal Server Error\n",
        "\n",
        "# Handle 404 Not Found\n",
        "@app.errorhandler(404)\n",
        "def page_not_found(e):\n",
        "    return render_template(\"404.html\"), 404\n",
        "\n",
        "# Handle 500 Internal Server Error\n",
        "@app.errorhandler(500)\n",
        "def internal_server_error(e):\n",
        "    return jsonify({\"error\": \"Something went wrong on the server!\"}), 500\n",
        "\n",
        "if __name__ == \"__main__\":\n",
        "    app.run(debug=True)\n",
        "templates/404.html\n",
        "\n",
        "<!DOCTYPE html>\n",
        "<html>\n",
        "<head>\n",
        "    <title>Page Not Found</title>\n",
        "</head>\n",
        "<body>\n",
        "    <h1>404 Error</h1>\n",
        "    <p>The page you are looking for does not exist.</p>\n",
        "</body>\n",
        "</html>"
      ],
      "metadata": {
        "id": "oXjqG0OADON8"
      },
      "execution_count": null,
      "outputs": []
    },
    {
      "cell_type": "markdown",
      "source": [
        "**How it Works**\n",
        "@app.errorhandler(404) catches 404 errors and returns a custom response or template.\n",
        "@app.errorhandler(500) catches internal server errors for better user experience.\n",
        "Returns a custom message or page instead of Flask’s default HTML error page.\n",
        "Helps make your API or website more user-friendly and professional."
      ],
      "metadata": {
        "id": "n3j5IhzRDSQZ"
      }
    },
    {
      "cell_type": "markdown",
      "source": [
        "**Q11.How do you structure a Flask app using Blueprints?**\n",
        "\n",
        "->Flask Blueprints allow you to organize your application into reusable modules.\n",
        "\n",
        "Useful for large applications where you want to separate routes, templates, and static files by feature.\n",
        "A Blueprint is like a mini Flask app that can be registered with the main application.\n",
        "\n",
        "**Key Points**\n",
        "Separation of concerns: Each Blueprint can handle a specific feature or module.\n",
        "Reusability: Blueprints can be imported and used across multiple apps.\n",
        "Maintainability: Easier to manage large codebases.\n",
        "\n",
        "**Example: Structuring a Flask App with Blueprints**"
      ],
      "metadata": {
        "id": "NaEk2hkNDbvo"
      }
    },
    {
      "cell_type": "code",
      "source": [
        "Project Structure:\n",
        "\n",
        "my_flask_app/\n",
        "├─ app.py\n",
        "├─ auth/\n",
        "│ ├─ init.py\n",
        "│ └─ routes.py\n",
        "├─ blog/\n",
        "│ ├─ init.py\n",
        "│ └─ routes.py\n",
        "└─ templates/\n",
        "├─ home.html\n",
        "├─ login.html\n",
        "└─ blog.html\n",
        "auth/routes.py\n",
        "\n",
        "from flask import Blueprint, render_template\n",
        "\n",
        "auth_bp = Blueprint(\"auth\", __name__, template_folder=\"templates\")\n",
        "\n",
        "@auth_bp.route(\"/login\")\n",
        "def login():\n",
        "    return render_template(\"login.html\")\n",
        "blog/routes.py\n",
        "\n",
        "from flask import Blueprint, render_template\n",
        "\n",
        "blog_bp = Blueprint(\"blog\", __name__, template_folder=\"templates\")\n",
        "\n",
        "@blog_bp.route(\"/blog\")\n",
        "def blog_home():\n",
        "    return render_template(\"blog.html\")\n",
        "app.py (Main Application)\n",
        "\n",
        "from flask import Flask, render_template\n",
        "from auth.routes import auth_bp\n",
        "from blog.routes import blog_bp\n",
        "\n",
        "app = Flask(__name__)\n",
        "\n",
        "# Register Blueprints\n",
        "app.register_blueprint(auth_bp, url_prefix=\"/auth\")\n",
        "app.register_blueprint(blog_bp, url_prefix=\"/blog\")\n",
        "\n",
        "@app.route(\"/\")\n",
        "def home():\n",
        "    return render_template(\"home.html\")\n",
        "\n",
        "if __name__ == \"__main__\":\n",
        "    app.run(debug=True)"
      ],
      "metadata": {
        "id": "-sMoKFMkD56W"
      },
      "execution_count": null,
      "outputs": []
    },
    {
      "cell_type": "markdown",
      "source": [
        "**How it Works**\n",
        "Blueprints (auth_bp, blog_bp) contain routes and templates for specific modules.\n",
        "app.register_blueprint() attaches Blueprints to the main app with an optional URL prefix.\n",
        "Makes it easy to scale the app, add new features, and maintain code separation."
      ],
      "metadata": {
        "id": "AM_UnS_TD9wE"
      }
    },
    {
      "cell_type": "markdown",
      "source": [
        "**Q12.How do you define a custom Jinja filter in Flask?**\n",
        "\n",
        "->Jinja filters are used in Flask templates to modify or format variables before rendering.\n",
        "\n",
        "Flask allows you to create custom filters for reusable formatting logic.\n",
        "Useful for tasks like date formatting, string manipulation, or number formatting\n",
        "\n",
        "**Steps to Define a Custom Filter**\n",
        "Define a Python function that performs the desired transformation.\n",
        "Register the function as a Jinja filter using app.template_filter() or app.add_template_filter().\n",
        "\n",
        "**Example: Custom Uppercase Filter**"
      ],
      "metadata": {
        "id": "6V-lZCc3EC41"
      }
    },
    {
      "cell_type": "code",
      "source": [
        "from flask import Flask, render_template\n",
        "\n",
        "app = Flask(__name__)\n",
        "\n",
        "# Define a custom filter\n",
        "@app.template_filter(\"uppercase\")\n",
        "def uppercase_filter(s):\n",
        "    return s.upper()\n",
        "\n",
        "@app.route(\"/\")\n",
        "def home():\n",
        "    name = \"Ritesh\"\n",
        "    return render_template(\"index.html\", name=name)\n",
        "\n",
        "if __name__ == \"__main__\":\n",
        "    app.run(debug=True)\n",
        "templates/index.html\n",
        "\n",
        "<!DOCTYPE html>\n",
        "<html>\n",
        "<head>\n",
        "    <title>Custom Filter Example</title>\n",
        "</head>\n",
        "<body>\n",
        "    <h1>Hello, {{ name|uppercase }}!</h1>\n",
        "</body>\n",
        "</html>\n",
        "Output:\n",
        "Hello, RITESH!"
      ],
      "metadata": {
        "id": "UMgvRzRfIOnD"
      },
      "execution_count": null,
      "outputs": []
    },
    {
      "cell_type": "markdown",
      "source": [
        "**How it Works**\n",
        "\n",
        "@app.template_filter(\"uppercase\") registers the function as a Jinja filter named \"uppercase\".\n",
        "In the template, {{ name|uppercase }} applies the filter to the variable.\n",
        "You can define multiple custom filters for reuse across templates."
      ],
      "metadata": {
        "id": "a_dFSwDXIUln"
      }
    },
    {
      "cell_type": "markdown",
      "source": [
        "\n",
        "**Q13.How can you redirect with query parameters in Flask?**\n",
        "\n",
        "->In Flask, you can redirect users to another route and pass query parameters dynamically using:\n",
        "\n",
        "url_for() to generate the route URL.\n",
        "Keyword arguments to add query parameters.\n",
        "redirect() to perform the redirection.\n",
        "Query parameters are appended automatically as part of the URL.\n",
        "\n",
        "**Example: Redirect with Query Parameters**"
      ],
      "metadata": {
        "id": "WuUqZ3xfIbGd"
      }
    },
    {
      "cell_type": "code",
      "source": [
        "from flask import Flask, redirect, url_for, request\n",
        "\n",
        "app = Flask(__name__)\n",
        "\n",
        "@app.route(\"/\")\n",
        "def home():\n",
        "    return \"Welcome to Home Page!\"\n",
        "\n",
        "@app.route(\"/search\")\n",
        "def search():\n",
        "    query = request.args.get(\"q\")  # Get query parameter 'q'\n",
        "    return f\"Search results for: {query}\"\n",
        "\n",
        "@app.route(\"/go-to-search\")\n",
        "def go_to_search():\n",
        "    # Redirect to /search with a query parameter 'q'\n",
        "    return redirect(url_for(\"search\", q=\"Flask\"))\n",
        "\n",
        "if __name__ == \"__main__\":\n",
        "    app.run(debug=True)\n",
        "Access Flow:\n",
        "Visiting /go-to-search → Redirects to /search?q=Flask\n",
        "\n",
        "request.args.get(\"q\") retrieves the value \"Flask\" in the target route"
      ],
      "metadata": {
        "id": "tyPyVmP3Ito4"
      },
      "execution_count": null,
      "outputs": []
    },
    {
      "cell_type": "markdown",
      "source": [
        "**How it Works**\n",
        "url_for(\"search\", q=\"Flask\") generates the URL /search?q=Flask.\n",
        "redirect() sends an HTTP 302 response to the client.\n",
        "Query parameters are accessed using request.args.get(\"param_name\") in the target route.\n",
        "Ensures dynamic, safe URL generation with parameters."
      ],
      "metadata": {
        "id": "NTL4zt4XI53W"
      }
    },
    {
      "cell_type": "markdown",
      "source": [
        "**Q14.How do you return JSON responses in Flask?**\n",
        "->Flask provides the jsonify() function to return JSON responses.\n",
        "\n",
        "JSON is commonly used in APIs for exchanging structured data.\n",
        "jsonify() automatically sets the Content-Type header to application/json and converts Python dictionaries or lists to JSON format.\n",
        "It is safer and cleaner than manually using json.dumps().\n",
        "\n",
        "**Example: Returning JSON Responses**"
      ],
      "metadata": {
        "id": "9KDp76WdJhwA"
      }
    },
    {
      "cell_type": "code",
      "source": [
        "from flask import Flask, jsonify, request\n",
        "\n",
        "app = Flask(__name__)\n",
        "\n",
        "# Simple JSON response\n",
        "@app.route(\"/user\")\n",
        "def get_user():\n",
        "    user = {\"name\": \"Ritesh\", \"age\": 22, \"role\": \"Student\"}\n",
        "    return jsonify(user)\n",
        "\n",
        "# API with dynamic JSON response\n",
        "@app.route(\"/square/<int:number>\")\n",
        "def square(number):\n",
        "    result = {\"number\": number, \"square\": number**2}\n",
        "    return jsonify(result)\n",
        "\n",
        "if __name__ == \"__main__\":\n",
        "    app.run(debug=True)\n",
        "\n",
        "Sample Outputs:\n",
        "GET /user → {\"name\": \"Ritesh\",`` \"age\": 22,`` \"role\": \"Student\"}\n",
        "\n",
        "GET /square/5 → {\"number\": 5, \"square\": 25}"
      ],
      "metadata": {
        "id": "9mDaCOcdJ923"
      },
      "execution_count": null,
      "outputs": []
    },
    {
      "cell_type": "markdown",
      "source": [
        "**How it Works**\n",
        "jsonify(dictionary) converts Python dict/list into JSON format.\n",
        "Sets Content-Type: application/json automatically.\n",
        "Can be used for RESTful API responses, ensuring the client receives structured data.\n",
        "Supports status codes: return jsonify(data), 200 or return jsonify(error=\"Not found\"), 404."
      ],
      "metadata": {
        "id": "wl6Vjr66KGh8"
      }
    },
    {
      "cell_type": "markdown",
      "source": [
        "**Q15.How do you capture URL parameters in Flask?**\n",
        "\n",
        "->Flask allows you to capture dynamic parts of a URL using route parameters.\n",
        "\n",
        "Useful for creating dynamic routes where the value in the URL is passed to the view function.\n",
        "Parameters are defined using angle brackets < > in the route.\n",
        "Supports type conversion like int, float, path, etc.\n",
        "\n",
        "**Example: Capturing URL Parameters**"
      ],
      "metadata": {
        "id": "oihuby6zKKsP"
      }
    },
    {
      "cell_type": "code",
      "source": [
        "from flask import Flask\n",
        "\n",
        "app = Flask(__name__)\n",
        "\n",
        "# String parameter\n",
        "@app.route(\"/user/<username>\")\n",
        "def show_user(username):\n",
        "    return f\"Hello, {username}!\"\n",
        "\n",
        "# Integer parameter\n",
        "@app.route(\"/post/<int:post_id>\")\n",
        "def show_post(post_id):\n",
        "    return f\"Viewing post number {post_id}\"\n",
        "\n",
        "# Multiple parameters\n",
        "@app.route(\"/order/<int:order_id>/<item_name>\")\n",
        "def show_order(order_id, item_name):\n",
        "    return f\"Order ID: {order_id}, Item: {item_name}\"\n",
        "\n",
        "if __name__ == \"__main__\":\n",
        "    app.run(debug=True)\n",
        "Sample URLs and Outputs:\n",
        "/user/Ritesh → Hello, Ritesh!\n",
        "\n",
        "/post/5 → Viewing post number 5\n",
        "\n",
        "/order/101/book → Order ID: 101, Item: book"
      ],
      "metadata": {
        "id": "FXfJL5NDKbNu"
      },
      "execution_count": null,
      "outputs": []
    },
    {
      "cell_type": "markdown",
      "source": [
        "**How it Works**\n",
        "\n",
        "<parameter> in the route captures the value from the URL.\n",
        "<int:parameter> converts the URL segment to an integer automatically.\n",
        "Values are passed as arguments to the view function.\n",
        "Enables dynamic routing without hardcoding multiple routes."
      ],
      "metadata": {
        "id": "Ms_PQMwjKeWj"
      }
    }
  ]
}